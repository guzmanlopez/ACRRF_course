{
 "cells": [
  {
   "cell_type": "markdown",
   "metadata": {},
   "source": [
    "# Practice sessions - Course 1 and Course 3  \n",
    "## CART Trees and Random Forests - Jean‐Michel POGGI  \n",
    "### Master 2 Course in Statistics  \n",
    "### Universidad de la República – Facultad de Ingeniería, Montevideo, Uruguay\n",
    "### February 2018 \n",
    "\n",
    "Guide for the practice sessions with the companion scenario, the documentation\n",
    "[cran.r-project.org/web/packages/VSURF/index.html](cran.r-project.org/web/packages/VSURF/index.html)\n",
    "and the two articles:\n",
    "[journal.r-project.org/archive/2015-2/genuer-poggi-tuleaumalot.pdf](journal.r-project.org/archive/2015-2/genuer-poggi-tuleaumalot.pdf)\n",
    "[hal-descartes.archives-ouvertes.fr/hal-01387654v2](hal-descartes.archives-ouvertes.fr/hal-01387654v2)\n"
   ]
  },
  {
   "cell_type": "markdown",
   "metadata": {},
   "source": [
    "## 1. Data"
   ]
  },
  {
   "cell_type": "markdown",
   "metadata": {},
   "source": [
    "#### 1. Load the library kernlab"
   ]
  },
  {
   "cell_type": "markdown",
   "metadata": {},
   "source": [
    "#### 2. Load the dataset spam in R and build the dataframes of learning and test sets (the first will be used for designing trees, the second for evaluating errors)"
   ]
  },
  {
   "cell_type": "markdown",
   "metadata": {},
   "source": [
    "## 2. CART trees"
   ]
  },
  {
   "cell_type": "markdown",
   "metadata": {},
   "source": [
    "### 1. Load the library rpart\n",
    "### 2. Compute the default tree provided by rpart\n",
    "### 3. Build a tree of depth 1 (stump) and draw it\n",
    "### 4. Examine splits primary splits and surrogate splits\n",
    "### 5. Build a maximal tree and draw it\n",
    "### 6. Draw the OOB errors of the Breiman’s sequence of the pruned subtrees of the maximal tree and interpret it\n",
    "### 7. Find the best of them in the sense of an estimate given by the cross-validation prediction error\n",
    "### 8. Compare the default tree of rpart with the one obtained by minimizing the prediction error. Same question with the one obtained by applying the 1 SE rule\n",
    "### 9. Compare the errors of the different trees obtained, both in learning and in test"
   ]
  },
  {
   "cell_type": "markdown",
   "metadata": {},
   "source": [
    "## 3. Random Forests"
   ]
  },
  {
   "cell_type": "markdown",
   "metadata": {},
   "source": [
    "### 1. Load the library randomForest\n",
    "### 2. Build a RF for mtry=p (unpruned bagging) and calculate the gain in terms of error with respect to a single tree\n",
    "### 3. Build a default RF\n",
    "### 4. Calculate an estimate of the prediction error and compare it to bagging\n",
    "### 5. Study the evolution of the OOB error with respect to ntree using do.trace"
   ]
  },
  {
   "cell_type": "markdown",
   "metadata": {},
   "source": [
    "## 4. Variable importance"
   ]
  },
  {
   "cell_type": "markdown",
   "metadata": {},
   "source": [
    "### 1. Calculate the variable importance of the spam variables for the default RF\n",
    "### 2. What are the most important variables?\n",
    "### 3. Calculate the importance of spam variables for stumps RF\n",
    "### 4. Illustrate the influence of the mtry parameter on the OOB error and on the VI"
   ]
  },
  {
   "cell_type": "markdown",
   "metadata": {},
   "source": [
    "## 5. Variable selection using random forests"
   ]
  },
  {
   "cell_type": "markdown",
   "metadata": {},
   "source": [
    "### 1. Load the library **VSURF**\n",
    "### 2. Apply **VSURF** on a subset of 500 observations of the data table spam.app\n",
    "### 3. Comment on the results of the different steps\n",
    "### 4. Experiment with the parallel version based on the article on **VSURF**"
   ]
  }
 ],
 "metadata": {
  "kernelspec": {
   "display_name": "R",
   "language": "R",
   "name": "ir"
  },
  "language_info": {
   "codemirror_mode": "r",
   "file_extension": ".r",
   "mimetype": "text/x-r-source",
   "name": "R",
   "pygments_lexer": "r",
   "version": "3.2.3"
  }
 },
 "nbformat": 4,
 "nbformat_minor": 2
}
